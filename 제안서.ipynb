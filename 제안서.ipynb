{
 "cells": [
  {
   "cell_type": "markdown",
   "metadata": {},
   "source": [
    "# Term Project 제안서"
   ]
  },
  {
   "cell_type": "markdown",
   "metadata": {},
   "source": [
    "제안자 : 2016104113 김예미"
   ]
  },
  {
   "cell_type": "markdown",
   "metadata": {},
   "source": [
    "## 1. 주제 선정 이유"
   ]
  },
  {
   "cell_type": "markdown",
   "metadata": {},
   "source": [
    "\"한국 영화산업의 매출과 관객 수가 역대 최고치를 기록하며 성장을 거듭하는 반면, 소수의 영화기업이 영화의 제작투자·배급·상영 등을 독점하여 영화산업 전반에 불공정한 거래관행을 고착시키고 있음. 특히 시장지배적 사업자의 지위에 있는 영화상영업자가 특정 영화를 과도하게 상영하여 다양한 영화를 관람하고 싶어 하는 관객들의 영화선택권을 침해하고 있는 상황임. 이에 대기업의 영화상영업과 영화배급업 겸영에 일정한 규제를 가하여 영화상영관 독과점으로 인한 폐해를 방지하고, 제작 예산 규모가 상대적으로 작은 예술영화 및 독립영화에 대한 지원을 강화함으로써 한국영화의 다양성을 증진하고 영화관객의 문화향유권을 보장하려는 것임.\"<br>\n",
    "<br>\n",
    "현재 국회에 계류되어 있는 <영화 및 비디오물의 진흥에 관한 법률(이하 영비법)>의 개정안은 ``\"영화배급업자 또는 영화상영업자가 대기업에 해당하는 경우에는 영화배급업 또는 영화상영업을 겸업할 수 없도록 함\"``의 내용을 담고 있다. 이는 대기업이 영화 배급과 상영을 겸업할 경우, 대기업에 속한 멀티플렉스 극장이 '자사 영화 밀어주기'로 스크린을 독점적으로 배정할 수 있음을 우려한 대안이다. 하지만 대기업 투자 배급사의 주장은 다르다. 수직계열화(제작·투자·배급·상영 등을 독점)가 스크린 쏠림 현상과 직결되지 않는다는 이야기다. 주장에 따르면 극장은 자사 영화라도 좌석 점유율이 낮다면 많은 스크린을 내주지 않는다. <br>\n",
    "이에, 과연 대기업 수직계열화가 스크린 쏠림 현상에 영향을 주는가에 대해 데이터 분석을 진행하기로 했다.\n",
    "<br><br>\n",
    "대기업의 수직계열화 예시)\n",
    "- CJ : 제작사 JK필름 / 투자배급사 CJ E&M / 멀티플렉스 CGV\n",
    "- 롯데 : 투자배급사 롯데엔터테인먼트 / 멀티플렉스 롯데시네마\n",
    "<br><br><br>\n",
    "참고 : 영화 및 비디오물의 진흥에 관한 법률 일부개정법률안(도종환의원 대표 발의, 의안번호 3081)<br>\n",
    "http://likms.assembly.go.kr/bill/billDetail.do?billId=PRC_M1H6Y1Y0E3E1C1H4X0P3A3D8R7N9W4&ageFrom=20&ageTo=20"
   ]
  },
  {
   "cell_type": "markdown",
   "metadata": {},
   "source": [
    "## 2. 가설 정의"
   ]
  },
  {
   "cell_type": "markdown",
   "metadata": {},
   "source": [
    "대기업의 배급과 상영 겸업, 스크린 독과점에 영향을 줄 것이다.<br>\n",
    "<br>\n",
    "기업의 목적은 이윤추구이다. 대기업이 영화의 배급과 상영을 겸업할 경우, 더 큰 이익 창출을 목적으로 자사영화에 스크린을 더 배정할 가능성이 있다. 배급과 상영을 겸업하는 대기업이 제작한 영화의 스크린 점유율을 분석하고, 이를 평균 스크린 점유율과 비교하여 대기업의 수직계열화가 스크린 쏠림 현상에 영향을 주는지에 대한 분석 결과를 도출할 것이다. 만일 이러한 가설이 사실일 경우, 영화계에서 문제가 되고 있는 스크린 독과점 현상에 대한 개정안이 사실에 입각한 타당한 제안임을 증명할 수 있다. "
   ]
  },
  {
   "cell_type": "markdown",
   "metadata": {},
   "source": [
    "## 3. 데이터 획득"
   ]
  },
  {
   "cell_type": "markdown",
   "metadata": {},
   "source": [
    "- 공공데이터포털, 영화진흥위원회 제공 OPEN API 활용<br>\n",
    "1) 박스오피스 (일별, 주간/주말) : 날짜별 영화의 이름과 해당 일자에 상영한 스크린 수<br>\n",
    "2) 영화정보 (영화 목록, 영화 상세정보) : 영화별 제작사명 <br>\n",
    "3) 영화사정보 (영화사목록, 영화사 상세정보) <br>\n",
    "https://www.data.go.kr/search/index.do?index=OPENAPI&query=%EC%98%81%ED%99%94%EC%A7%84%ED%9D%A5%EC%9C%84%EC%9B%90%ED%9A%8C&currentPage=1&countPerPage=10"
   ]
  }
 ],
 "metadata": {
  "kernelspec": {
   "display_name": "Python 3",
   "language": "python",
   "name": "python3"
  },
  "language_info": {
   "codemirror_mode": {
    "name": "ipython",
    "version": 3
   },
   "file_extension": ".py",
   "mimetype": "text/x-python",
   "name": "python",
   "nbconvert_exporter": "python",
   "pygments_lexer": "ipython3",
   "version": "3.6.5"
  }
 },
 "nbformat": 4,
 "nbformat_minor": 2
}
